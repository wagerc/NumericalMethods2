{
 "cells": [
  {
   "cell_type": "markdown",
   "id": "ebc1591f",
   "metadata": {},
   "source": [
    "# Task 1 of sheet 4\n",
    "Numerical Methods 2, WS 2021/22<br>\n",
    "by Clemens Wager"
   ]
  },
  {
   "cell_type": "markdown",
   "id": "40ce4da4",
   "metadata": {},
   "source": [
    "(3 Points) Write a program/script where you investigate convergence of the power iteration and\n",
    "the Rayleigh quotient estimate to the eigenvalue. For that purpose, generate a symmetric matrix.<br>\n",
    "Investigate the convergence of the Rayleigh quotient estimate to the largest eigenvalue and\n",
    "the error in approximation of the eigenvector.<br>Plot the errors against iteration number in a semilogarithmic\n",
    "plot. Also illustrate the \"speed of convergence\" given by q^k, where q = |lambda_2/lambda_1|, the\n",
    "ratio of the largest and second largest eigenvalue in absolute terms. \n",
    "\n",
    "_Hints: Generate a random matrix\n",
    "and take its symmetric part; Use built-in/package functions to compute the reference solutions\n",
    "used to calculate the errors (reference = true eigenpair); Note that the reference and the approximated eigenvector should be normalized and point in the same direction. The latter can be guaranteed by investigating the sign of the inner product of the reference and the approximated eigenvector._"
   ]
  },
  {
   "cell_type": "code",
   "execution_count": 1,
   "id": "927d8506",
   "metadata": {},
   "outputs": [],
   "source": [
    "import numpy as np\n",
    "import scipy.sparse.linalg as spla\n",
    "import scipy.sparse as sparse\n",
    "import matplotlib.pyplot as plt"
   ]
  },
  {
   "cell_type": "markdown",
   "id": "ff4f2213",
   "metadata": {},
   "source": [
    "#### Define the necessary functions"
   ]
  },
  {
   "cell_type": "code",
   "execution_count": 2,
   "id": "6e0eedf3",
   "metadata": {},
   "outputs": [],
   "source": [
    " # Define a function that executes power iteration \n",
    "\n",
    "def poweriter(A, v, true_vec, true_vec_norm, true_val, tol):\n",
    "    \"\"\" \n",
    "    Power iteration \n",
    "    Input:\n",
    "        A: system matrix\n",
    "        v: initial rank vector\n",
    "        true_vec: true largest eigenvector to fix direction\n",
    "        true_vec_norm: norm of the true eigenvector for convergence criterium\n",
    "        true_val: the true eigenvalue (computed with package function)\n",
    "        tol: tolerance\n",
    "    Return:\n",
    "        v: the eigenvector accociated with the largest eigenvalue\n",
    "        vec_con_errs: list of convergence error in each iteration\n",
    "        iters: number of iterations\n",
    "    \"\"\"\n",
    "    n = len(A)\n",
    "    count = 0\n",
    "    vec_con_errs = [] # list of errors\n",
    "    val_con_errs = [] # list of errors\n",
    "    vec_relerror = np.inf # initial relative convergence error in the eigenvector\n",
    "    \n",
    "    #for i in range(n):\n",
    "    while vec_relerror > tol:\n",
    "        # calculate the current relative convergence error of eigenvector and add it to list        \n",
    "        vec_relerror = (np.linalg.norm(true_vec - v) /\n",
    "                        np.linalg.norm(true_vec)) # relative error\n",
    "        vec_con_errs.append(vec_relerror)\n",
    "        \n",
    "        #print(f\"vec_relerror: {vec_relerror}\")\n",
    "    \n",
    "        # calculate the current relative convergence error of eigenvector and add it to list        \n",
    "        val_con_errs.append( abs((true_val-rayquoc(A,v)) / true_val) )\n",
    "\n",
    "        # calculate the matrix-vector product\n",
    "        Av = np.dot(A, v)\n",
    "        \n",
    "        # calculate the norm\n",
    "        Av_norm = np.linalg.norm(Av)\n",
    "        \n",
    "        # normalize and update the vector\n",
    "        v = Av / Av_norm\n",
    "        \n",
    "        # check and correct direction if necessary \n",
    "        if np.dot(v, true_vec) < 0:\n",
    "            v = -v\n",
    "        count+=1 # increment counter\n",
    "    \n",
    "    return v, vec_con_errs, val_con_errs, count"
   ]
  },
  {
   "cell_type": "code",
   "execution_count": 3,
   "id": "37b2b0d7",
   "metadata": {},
   "outputs": [],
   "source": [
    " # Define a function for the Rayleigh quotient \n",
    "\n",
    "def rayquoc(A, x):\n",
    "    \"\"\" \n",
    "    Rayleigh quotient (compact)\n",
    "    Input: \n",
    "        A: symmetric system matrix\n",
    "        x: an eigenvector of A\n",
    "    Returns the eigenvalue associated with the input eigenvector\n",
    "    \"\"\"   \n",
    "    return np.dot(np.dot(x,A),x) / np.dot(x,x)"
   ]
  },
  {
   "cell_type": "markdown",
   "id": "1a44714f",
   "metadata": {},
   "source": [
    "#### Generate a sparse symmetric reproducible matrix S"
   ]
  },
  {
   "cell_type": "code",
   "execution_count": 4,
   "id": "bd96ae85",
   "metadata": {},
   "outputs": [
    {
     "name": "stdout",
     "output_type": "stream",
     "text": [
      "n = 1000\n",
      "\n",
      "Upper matrix =\n",
      "[[0.85154491 0.         0.         ... 0.40768954 0.59623289 0.        ]\n",
      " [0.         0.         0.         ... 0.         0.68889557 0.        ]\n",
      " [0.         0.68306025 0.         ... 0.8101654  0.         0.        ]\n",
      " ...\n",
      " [0.         0.         0.88648589 ... 0.31959347 0.26062093 0.75103098]\n",
      " [0.         0.         0.         ... 0.         0.         0.30196122]\n",
      " [0.         0.         0.         ... 0.77886505 0.         0.        ]]\n",
      "\n",
      "Symmetric matrix =\n",
      "[[0.85154491 0.         0.         ... 0.         0.         0.        ]\n",
      " [0.         0.         0.68306025 ... 0.         0.         0.        ]\n",
      " [0.         0.68306025 0.         ... 0.88648589 0.         0.        ]\n",
      " ...\n",
      " [0.         0.         0.88648589 ... 0.31959347 0.         0.77886505]\n",
      " [0.         0.         0.         ... 0.         0.         0.        ]\n",
      " [0.         0.         0.         ... 0.77886505 0.         0.        ]]\n",
      "\n"
     ]
    }
   ],
   "source": [
    "# generate symmetric matrix S\n",
    "n = 1000\n",
    "density = 0.3\n",
    "\n",
    "# Set a seed for uniform(). ATTENTION random.seed() from random library does not work with other libraries!\n",
    "np.random.seed(42)\n",
    "\n",
    "#Let U be a square matrix of uniformly distributed random numbers.\n",
    "#U = np.random.uniform(low=0, high=1.0, size=(n, n))\n",
    "U = sparse.random(n,n, density=density)\n",
    "\n",
    "# symmetrize\n",
    "U = U.toarray()\n",
    "S = np.tril(U) + np.tril(U, -1).T\n",
    "print(f\"n = {n}\\n\")\n",
    "print(f\"Upper matrix =\\n{U}\\n\")\n",
    "print(f\"Symmetric matrix =\\n{S}\\n\")\n",
    "\n",
    "# Source: https://cmdlinetips.com/2019/02/how-to-create-random-sparse-matrix-of-specific-density/"
   ]
  },
  {
   "cell_type": "markdown",
   "id": "96e654d0",
   "metadata": {},
   "source": [
    "#### Compute eigenvalue and the associated eigenvector (SCIPY)"
   ]
  },
  {
   "cell_type": "code",
   "execution_count": 5,
   "id": "6631b481",
   "metadata": {},
   "outputs": [
    {
     "name": "stdout",
     "output_type": "stream",
     "text": [
      "1st largest eigenvalue (scipy) = (150.63238332105345+0j)\n",
      "2nd largest eigenvalue (scipy) = (-17.504711140135566+0j)\n",
      "\n",
      "Convergence speed q given by |lam2/lam1|\n",
      "q = 0.11620815361346662\n",
      "\n",
      "Eigenvector (scipy) =\n",
      "[[ 0.03394222+0.j  0.01452496+0.j]\n",
      " [ 0.03126797+0.j -0.01843131+0.j]\n",
      " [ 0.02967346+0.j -0.01974107+0.j]\n",
      " [ 0.03178182+0.j  0.0049513 +0.j]]...\n",
      "\n",
      "Norm of true eigenvector (true_v_norm) = 0.9999999999999994\n",
      "\n"
     ]
    }
   ],
   "source": [
    "# Compute reference solution\n",
    "v0 = np.ones(n)\n",
    "v0_normal = v0/np.linalg.norm(v0)\n",
    "\n",
    "scytol = 0\n",
    "vals, vecs = spla.eigs(A=S,  # system matrix\n",
    "                       k=2,  # the number of eigenvalues and eigenvectors desired\n",
    "                       v0 = v0,  # starting vector\n",
    "                       which = 'LM',  # which k eigenvectors and eigenvalues to find\n",
    "                       tol = scytol,  # standard=0 (machine precision)\n",
    "                       return_eigenvectors = True\n",
    "                      )\n",
    "\n",
    "# eigenVALUE\n",
    "print(f\"1st largest eigenvalue (scipy) = {vals[0]}\")\n",
    "print(f\"2nd largest eigenvalue (scipy) = {vals[1]}\\n\")\n",
    "\n",
    "# convergence speed q\n",
    "q = abs(vals[1]/vals[0])\n",
    "print(f\"Convergence speed q given by |lam2/lam1|\\nq = {q}\\n\")\n",
    "\n",
    "# eigenVECTOR\n",
    "vec = vecs[:,0]\n",
    "true_v_norm = np.linalg.norm(vec)\n",
    "print(f\"Eigenvector (scipy) =\\n{vecs[:4]}...\\n\")\n",
    "print(f\"Norm of true eigenvector (true_v_norm) = {true_v_norm}\\n\")"
   ]
  },
  {
   "cell_type": "markdown",
   "id": "a4b82e6f",
   "metadata": {},
   "source": [
    "#### Compute largest eigenvalue and associated eigenvector with IMPLEMENTATION"
   ]
  },
  {
   "cell_type": "code",
   "execution_count": 6,
   "id": "166fa8f7",
   "metadata": {},
   "outputs": [
    {
     "name": "stdout",
     "output_type": "stream",
     "text": [
      "tol = 1e-15\n",
      "\n",
      "1st largest eigenvalue (implementation) = 150.63238332105337\n",
      "The computation error in the eigenvalue = 8.526512829121202e-14\n",
      "\n",
      "Converged in 15 iterations!\n",
      "\n"
     ]
    }
   ],
   "source": [
    "# Compute eigenvector\n",
    "# input vector must be normalized for PI\n",
    "v0 = np.ones(n)\n",
    "v0_normal = v0/np.linalg.norm(v0)\n",
    "\n",
    "# reference eigenvector normalized for convergence criterium\n",
    "vec_norm = np.linalg.norm(vec)\n",
    "\n",
    "# tolerance\n",
    "tol = 1e-15 #1e-8 too long\n",
    "print(f\"tol = {tol}\")\n",
    "\n",
    "vec_tilde, vec_con_errs, val_con_errs, itercount = poweriter(S, v0_normal, vec, vec_norm, vals[0], tol)\n",
    "\n",
    "# Compute eigenvalue (Rayleigh quotient)\n",
    "val_tilde = rayquoc(S,vec_tilde)\n",
    "print(f\"\\n1st largest eigenvalue (implementation) = {val_tilde}\")\n",
    "val_error = abs(val_tilde - vals[0])\n",
    "print(f\"The computation error in the eigenvalue = {val_error}\\n\")\n",
    "print(f\"Converged in {itercount} iterations!\\n\")\n",
    "#5.684341886080802e-14"
   ]
  },
  {
   "cell_type": "markdown",
   "id": "2b5f6c84",
   "metadata": {},
   "source": [
    "#### Plot convergence of EIGENVECTOR"
   ]
  },
  {
   "cell_type": "code",
   "execution_count": 7,
   "id": "2747c7fa",
   "metadata": {},
   "outputs": [
    {
     "data": {
      "image/png": "[encoded data removed]",
      "text/plain": [
       "<Figure size 1008x432 with 1 Axes>"
      ]
     },
     "metadata": {
      "needs_background": "light"
     },
     "output_type": "display_data"
    },
    {
     "name": "stdout",
     "output_type": "stream",
     "text": [
      "splice of eigenvector convergence errors\n",
      "[0.057651263353280184, 0.0034282420622747368, 0.00028432422155562494, 2.6084000506618984e-05, 2.5176878963341267e-06, 2.5076644000464224e-07, 2.5525705681769492e-08, 2.6406006610158893e-09, 2.766323233183374e-10, 2.927723056731763e-11, 3.1249428184972604e-12, 3.357814750460599e-13, 3.630380567411611e-14, 3.78725217029298e-15, 6.058631944078259e-16]\n",
      "\n"
     ]
    }
   ],
   "source": [
    "# Plot convergence error over iteration number\n",
    "#iters = np.arange(n)\n",
    "iters = np.arange(itercount) # newcc\n",
    "\n",
    "plt.figure(figsize=(14, 6))\n",
    "plt.semilogy(iters, vec_con_errs, label=\"convergence eigenvector\")\n",
    "\n",
    "plt.title('Convergence of Eigenvector')\n",
    "plt.xlabel('iteration')\n",
    "plt.ylabel('error')\n",
    "plt.grid()\n",
    "plt.legend(loc='upper right')\n",
    "plt.show()\n",
    "print(f\"splice of eigenvector convergence errors\\n{vec_con_errs[:20]}\\n\")"
   ]
  },
  {
   "cell_type": "markdown",
   "id": "134dc57d",
   "metadata": {},
   "source": [
    "#-## Plot convergence of EIGENVALUE"
   ]
  },
  {
   "cell_type": "code",
   "execution_count": 8,
   "id": "971aedd3",
   "metadata": {},
   "outputs": [
    {
     "data": {
      "image/png": "[encoded data removed]",
      "text/plain": [
       "<Figure size 1008x432 with 1 Axes>"
      ]
     },
     "metadata": {
      "needs_background": "light"
     },
     "output_type": "display_data"
    },
    {
     "name": "stdout",
     "output_type": "stream",
     "text": [
      "splice of eigenvalue convergence errors\n",
      "[0.003301444254472034, 1.158507268958653e-05, 7.930850811433979e-08, 6.65679941788036e-10, 6.193317597287133e-12, 6.188789214934741e-14, 1.3207781861141217e-15, 5.660477940489093e-16, 5.660477940489093e-16, 5.660477940489093e-16]\n",
      "\n"
     ]
    }
   ],
   "source": [
    "# Plot convergence error over iteration number\n",
    "iters = np.arange(itercount)\n",
    "\n",
    "plt.figure(figsize=(14, 6))\n",
    "plt.semilogy(iters, val_con_errs, label=\"convergence eigenvalue\", color='green')\n",
    "\n",
    "# fancy plot\n",
    "#plt.xlim([0,50])\n",
    "\n",
    "plt.title('Convergence of Eigenvalue (using Rayleigh quotient)')\n",
    "plt.xlabel('iteration')\n",
    "plt.ylabel('error')\n",
    "plt.grid()\n",
    "plt.legend(loc='upper right')\n",
    "plt.show()\n",
    "print(f\"splice of eigenvalue convergence errors\\n{val_con_errs[:10]}\\n\")"
   ]
  },
  {
   "cell_type": "code",
   "execution_count": null,
   "id": "feafba81",
   "metadata": {},
   "outputs": [],
   "source": []
  }
 ],
 "metadata": {
  "kernelspec": {
   "display_name": "Python 3 (ipykernel)",
   "language": "python",
   "name": "python3"
  },
  "language_info": {
   "codemirror_mode": {
    "name": "ipython",
    "version": 3
   },
   "file_extension": ".py",
   "mimetype": "text/x-python",
   "name": "python",
   "nbconvert_exporter": "python",
   "pygments_lexer": "ipython3",
   "version": "3.9.7"
  }
 },
 "nbformat": 4,
 "nbformat_minor": 5
}
