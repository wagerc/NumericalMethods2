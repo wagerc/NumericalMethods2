{
 "cells": [
  {
   "cell_type": "markdown",
   "id": "04158035",
   "metadata": {},
   "source": [
    "# Task 5 of sheet 4\n",
    "Numerical Methods 2, WS 2021/22<br>\n",
    "by Clemens Wager"
   ]
  },
  {
   "cell_type": "markdown",
   "id": "c17eeab7",
   "metadata": {},
   "source": [
    "(2 Points) Consider a randomly generated matrix A elem R (15x30) and compute its SVD (take a\n",
    "package/built-in function). Compute the rank-10 (low rank) matrix A_10 from the SVD of A by\n",
    "discarding the smallest three singular values sigma_11,...,sigma_15. Calculate the error in the Frobenius norm ||A-A_10||_F and sqrt(sum(j=11 to 15)(sigma^2_j))."
   ]
  },
  {
   "cell_type": "code",
   "execution_count": 1,
   "id": "f1b11b7c",
   "metadata": {},
   "outputs": [],
   "source": [
    "import numpy as np\n",
    "import scipy.sparse as sparse\n",
    "import scipy.linalg as sla"
   ]
  },
  {
   "cell_type": "markdown",
   "id": "8ed3168f",
   "metadata": {},
   "source": [
    "#### Generate a sparse reproducible 15x30 matrix "
   ]
  },
  {
   "cell_type": "code",
   "execution_count": 2,
   "id": "3eb87f7f",
   "metadata": {},
   "outputs": [
    {
     "name": "stdout",
     "output_type": "stream",
     "text": [
      "m=15; n=30\n",
      "A.shape = (15, 30)\n",
      "Rank of original A = 15\n"
     ]
    }
   ],
   "source": [
    "# generate symmetric matrix S\n",
    "m = 15\n",
    "n = 30\n",
    "density = 0.3\n",
    "print(f\"m={m}; n={n}\")\n",
    "\n",
    "# ATTENTION random.seed() from random library does not work with other libraries!\n",
    "np.random.seed(42)\n",
    "\n",
    "# Let U be a matrix of uniformly distributed random numbers.\n",
    "# type(A)=coo_matrix # very fast conversion to and from CSR/CSC formats\n",
    "A = sparse.random(m,n, density=density)\n",
    "print(f\"A.shape = {A.shape}\")\n",
    "\n",
    "A_coo = A.copy()\n",
    "#print(\"type(A_coo) =\",type(A_coo))\n",
    "#print(f\"Matrix A (coo) =\\n{A_coo}\\n\")\n",
    "\n",
    "A_arr = A.toarray()\n",
    "#print(\"type(A_arr) =\",type(A_arr))\n",
    "#print(f\"Matrix A (array) =\\n{A_arr}\\n\")\n",
    "\n",
    "# Rank of A\n",
    "print(f\"Rank of original A = {np.linalg.matrix_rank(A_arr)}\")\n",
    "\n",
    "# Source: https://cmdlinetips.com/2019/02/how-to-create-random-sparse-matrix-of-specific-density/"
   ]
  },
  {
   "cell_type": "markdown",
   "id": "2bc7c3e0",
   "metadata": {},
   "source": [
    "#### Compute the SVD"
   ]
  },
  {
   "cell_type": "code",
   "execution_count": 3,
   "id": "c57f3be9",
   "metadata": {},
   "outputs": [],
   "source": [
    "U, s, Vh = sla.svd(a=A_arr) # package function for SVD"
   ]
  },
  {
   "cell_type": "code",
   "execution_count": 4,
   "id": "f52e9bc3",
   "metadata": {},
   "outputs": [
    {
     "name": "stdout",
     "output_type": "stream",
     "text": [
      "U (15, 15)\n",
      "s (15,)\n",
      "[4.00174009 2.43791807 2.19375267 2.03231234 1.81298175 1.61032585\n",
      " 1.56733038 1.48280019 1.40771779 1.17278639 1.05562052 0.85826203\n",
      " 0.82703156 0.74706396 0.6873167 ]\n",
      "Vh (30, 30)\n"
     ]
    }
   ],
   "source": [
    "# U: Unitary matrix having left singular vectors as columns.\n",
    "print(f\"U {U.shape}\")\n",
    "#print(f\"{U}\")\n",
    "\n",
    "# s: The singular values, sorted in decreasing order. \n",
    "print(f\"s {s.shape}\")\n",
    "print(f\"{s}\")\n",
    "\n",
    "# Vh: Unitary matrix having right singular vectors as rows.\n",
    "print(f\"Vh {Vh.shape}\")\n",
    "#print(f\"{Vh}\")"
   ]
  },
  {
   "cell_type": "markdown",
   "id": "6299d6ec",
   "metadata": {},
   "source": [
    "#### Check whether the SVD worked as intended"
   ]
  },
  {
   "cell_type": "code",
   "execution_count": 5,
   "id": "4262a67d",
   "metadata": {},
   "outputs": [
    {
     "name": "stdout",
     "output_type": "stream",
     "text": [
      "A_prod (15, 30)\n",
      "rank(A_prod) = 15\n",
      "A_prod close to A_arr: True\n"
     ]
    }
   ],
   "source": [
    "# Reconstruct original A with full rank\n",
    "# define a sigma mxn with all singular values along diagonal\n",
    "sigma_full = np.zeros((m,n))\n",
    "for i in range(min(m, n)):\n",
    "    sigma_full[i, i] = s[i]\n",
    "\n",
    "A_prod = np.dot( np.dot(U,sigma_full), Vh)\n",
    "print(f\"A_prod {A_prod.shape}\")\n",
    "print(f\"rank(A_prod) = {np.linalg.matrix_rank(A_prod)}\")\n",
    "# Close result?\n",
    "print(f\"A_prod close to A_arr: {np.allclose(A_arr, A_prod)}\")"
   ]
  },
  {
   "cell_type": "markdown",
   "id": "f5915f11",
   "metadata": {},
   "source": [
    "#### Compute rank-10 (low rank) matrix A10 from the SVD  "
   ]
  },
  {
   "cell_type": "code",
   "execution_count": 6,
   "id": "5eb04ba0",
   "metadata": {},
   "outputs": [
    {
     "name": "stdout",
     "output_type": "stream",
     "text": [
      "s_dis (15,)\n",
      "[4.00174009 2.43791807 2.19375267 2.03231234 1.81298175 1.61032585\n",
      " 1.56733038 1.48280019 1.40771779 1.17278639 0.         0.\n",
      " 0.         0.         0.        ]\n",
      "\n",
      "sigma_red.shape (15, 30)\n",
      "\n",
      "np.diag(sigma_red)\n",
      "[4.00174009 2.43791807 2.19375267 2.03231234 1.81298175 1.61032585\n",
      " 1.56733038 1.48280019 1.40771779 1.17278639 0.         0.\n",
      " 0.         0.         0.        ]\n",
      "\n",
      "A10 (15, 30)\n",
      "rank(A10) = 10\n"
     ]
    }
   ],
   "source": [
    "# ...by discarding the smallest (\"THREE\") FIVE singular values\n",
    "s_dis = s.copy()\n",
    "s_dis[-5:] = 0\n",
    "s_dis_shape = s_dis.shape\n",
    "print(f\"s_dis {s_dis_shape}\")\n",
    "print(f\"{s_dis}\\n\")\n",
    "\n",
    "# define a simga mxn with reduced singular values along diagonal\n",
    "sigma_red = np.zeros((m,n))\n",
    "for i in range(min(m, n)):\n",
    "    sigma_red[i, i] = s_dis[i]\n",
    "    \n",
    "print(f\"sigma_red.shape {sigma_red.shape}\\n\")\n",
    "#print(f\"{sigma_red}\\n\")\n",
    "print(f\"np.diag(sigma_red)\\n{np.diag(sigma_red)}\\n\")\n",
    "\n",
    "# Reconstruct A with reduced rank\n",
    "A10 = np.dot( np.dot(U,sigma_red), Vh)\n",
    "print(f\"A10 {A10.shape}\")\n",
    "print(f\"rank(A10) = {np.linalg.matrix_rank(A10)}\")"
   ]
  },
  {
   "cell_type": "markdown",
   "id": "17ec2c88",
   "metadata": {},
   "source": [
    "#### Calculate errors"
   ]
  },
  {
   "cell_type": "code",
   "execution_count": 11,
   "id": "7f4a5aac",
   "metadata": {},
   "outputs": [
    {
     "name": "stdout",
     "output_type": "stream",
     "text": [
      "->Error in the Frobenius norm =\t1.8882368538057257\n",
      "->Error calculated from \n",
      "the discarded singular values =\t1.8882368538057253\n",
      "->Difference in errors = 4.440892098500626e-16\n"
     ]
    }
   ],
   "source": [
    "# calculate 1) the error (Frobenius norm)\n",
    "ferr = np.linalg.norm(A_arr-A10, ord='fro')\n",
    "print(f\"->Error in the Frobenius norm =\\t{ferr}\")\n",
    "\n",
    "# 2) the error resulting from the discarded singular values\n",
    "discerr=0\n",
    "for sv in s[-5:]:\n",
    "    discerr += sv**2\n",
    "discerr = np.sqrt(discerr)\n",
    "print(f\"->Error calculated from \\nthe discarded singular values =\\t{discerr}\")\n",
    "print(f\"->Difference in errors = {abs(ferr-discerr)}\")"
   ]
  },
  {
   "cell_type": "code",
   "execution_count": null,
   "id": "fa59881f",
   "metadata": {},
   "outputs": [],
   "source": []
  }
 ],
 "metadata": {
  "kernelspec": {
   "display_name": "Python 3 (ipykernel)",
   "language": "python",
   "name": "python3"
  },
  "language_info": {
   "codemirror_mode": {
    "name": "ipython",
    "version": 3
   },
   "file_extension": ".py",
   "mimetype": "text/x-python",
   "name": "python",
   "nbconvert_exporter": "python",
   "pygments_lexer": "ipython3",
   "version": "3.9.7"
  }
 },
 "nbformat": 4,
 "nbformat_minor": 5
}
