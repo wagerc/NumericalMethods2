{
 "cells": [
  {
   "cell_type": "markdown",
   "id": "65fdf9fb",
   "metadata": {},
   "source": [
    "# Task 3 of sheet 4\n",
    "Numerical Methods 2, WS 2021/22<br>\n",
    "by Clemens Wager"
   ]
  },
  {
   "cell_type": "markdown",
   "id": "1dccc404",
   "metadata": {},
   "source": [
    "(2 Points) Consider the webpage linking graph corresponding to the links\n",
    "\n",
    "A -> B; D; E<br>\n",
    "B -> A;C<br>\n",
    "C -> A; B<br>\n",
    "D -> B<br>\n",
    "E -> A;C\n",
    "\n",
    "Calculate the PageRank in a little program/script with power iteration where you use<br>\n",
    "(i) p = 0.15 and <br>\n",
    "(ii) p = 1e-03."
   ]
  },
  {
   "cell_type": "code",
   "execution_count": 1,
   "id": "446d4c3e",
   "metadata": {},
   "outputs": [],
   "source": [
    "import numpy as np\n",
    "import pandas as pd\n",
    "import matplotlib.pyplot as plt"
   ]
  },
  {
   "cell_type": "code",
   "execution_count": 2,
   "id": "b79ce857",
   "metadata": {},
   "outputs": [
    {
     "name": "stdout",
     "output_type": "stream",
     "text": [
      "linking matrix A of dimension 5x5\n",
      "\n",
      "     A    B    C    D    E\n",
      "A  0.0  0.5  0.5  0.0  0.5\n",
      "B  0.3  0.0  0.5  1.0  0.0\n",
      "C  0.0  0.5  0.0  0.0  0.5\n",
      "D  0.3  0.0  0.0  0.0  0.0\n",
      "E  0.3  0.0  0.0  0.0  0.0\n"
     ]
    }
   ],
   "source": [
    "# create a linking matrix A 5x5, where rows=sink and cols=source\n",
    "# this matrix essentially is a probability matrix\n",
    "A = [\n",
    "    [  0 , .5 , .5, 0 , .5 ],\n",
    "    [ 1/3, 0  , .5, 1.,  0 ],\n",
    "    [  0 , .5 , 0 , 0 , .5 ],\n",
    "    [ 1/3, 0  , 0 , 0 ,  0 ],\n",
    "    [ 1/3, 0  , 0 , 0 ,  0 ]]\n",
    "A = np.array(A)\n",
    "n = len(A)\n",
    "print(f\"linking matrix A of dimension {n}x{n}\\n\")\n",
    "dfmat = pd.DataFrame(data=A, columns=['A','B','C','D','E'], index=['A','B','C','D','E'])\n",
    "print(round(dfmat,1))"
   ]
  },
  {
   "cell_type": "code",
   "execution_count": 3,
   "id": "533bbbfb",
   "metadata": {},
   "outputs": [
    {
     "name": "stdout",
     "output_type": "stream",
     "text": [
      "Initial rank vector\n",
      "v = [0.2 0.2 0.2 0.2 0.2]\n",
      "p1 = 0.15\n",
      "p2 = 0.001\n"
     ]
    }
   ],
   "source": [
    "# create a rank vector v with initial entries\n",
    "# Multiplying this vector v with the linking matrix A means, \n",
    "# that it collects the importance each webpage gets from all other webpages.\n",
    "v = np.ones(n)/n\n",
    "print(f\"Initial rank vector\\nv = {v}\")\n",
    "\n",
    "# Probabilitiy to leave the circle of n webpages\n",
    "p1 = 0.15\n",
    "p2 = 0.001\n",
    "print(f\"p1 = {p1}\\np2 = {p2}\")"
   ]
  },
  {
   "cell_type": "code",
   "execution_count": 4,
   "id": "ee8d410e",
   "metadata": {},
   "outputs": [],
   "source": [
    "# Define pagerank function\n",
    "\n",
    "def pagerank(A, v, p, kmax):\n",
    "    \"\"\" Page rank algorithm \"\"\"\n",
    "    X = [] # matrix holding the rank vectors in its rows\n",
    "    \n",
    "    M = (1-p)*A + p*np.ones(n)/n    # Define Random Surfer Model for p\n",
    "    #M = (1-p)*A + p* np.full((n,n),1/n)\n",
    "    dfM = pd.DataFrame(data=M, columns=['A','B','C','D','E'], index=['A','B','C','D','E']) # nice output\n",
    "    print(f\"let p={p}, M =\\n{round(dfM,3)}\\n\")\n",
    "    \n",
    "    X.append(np.around(v,6))\n",
    "    k = 0  # iteration count\n",
    "    while k < kmax:\n",
    "        v = M @ v\n",
    "        k += 1\n",
    "        X.append(np.around(v,6))\n",
    "    print(f\"Number of iterations: {k}\\nSolution found: {np.around(v,4)}\")\n",
    "    plt.plot(X)\n",
    "    plt.show(X)"
   ]
  },
  {
   "cell_type": "code",
   "execution_count": 5,
   "id": "8987be1e",
   "metadata": {},
   "outputs": [
    {
     "name": "stdout",
     "output_type": "stream",
     "text": [
      "let p=0.15, M =\n",
      "       A      B      C     D      E\n",
      "A  0.030  0.455  0.455  0.03  0.455\n",
      "B  0.313  0.030  0.455  0.88  0.030\n",
      "C  0.030  0.455  0.030  0.03  0.455\n",
      "D  0.313  0.030  0.030  0.03  0.030\n",
      "E  0.313  0.030  0.030  0.03  0.030\n",
      "\n",
      "Number of iterations: 8\n",
      "Solution found: [0.2862 0.2907 0.2009 0.1111 0.1111]\n"
     ]
    },
    {
     "data": {
      "image/png": "[encoded data removed]",
      "text/plain": [
       "<Figure size 432x288 with 1 Axes>"
      ]
     },
     "metadata": {
      "needs_background": "light"
     },
     "output_type": "display_data"
    }
   ],
   "source": [
    "# Case p1\n",
    "kmax = 8\n",
    "pagerank(A, v, p1, kmax)\n",
    "# solution for p1=0.15 => [0.2862 0.2907 0.2009 0.1111 0.1111]"
   ]
  },
  {
   "cell_type": "code",
   "execution_count": 6,
   "id": "b0eddd60",
   "metadata": {},
   "outputs": [
    {
     "name": "stdout",
     "output_type": "stream",
     "text": [
      "let p=0.001, M =\n",
      "       A    B    C      D    E\n",
      "A  0.000  0.5  0.5  0.000  0.5\n",
      "B  0.333  0.0  0.5  0.999  0.0\n",
      "C  0.000  0.5  0.0  0.000  0.5\n",
      "D  0.333  0.0  0.0  0.000  0.0\n",
      "E  0.333  0.0  0.0  0.000  0.0\n",
      "\n",
      "Number of iterations: 8\n",
      "Solution found: [0.2999 0.2995 0.2003 0.1001 0.1001]\n"
     ]
    },
    {
     "data": {
      "image/png": "[encoded data removed]",
      "text/plain": [
       "<Figure size 432x288 with 1 Axes>"
      ]
     },
     "metadata": {
      "needs_background": "light"
     },
     "output_type": "display_data"
    }
   ],
   "source": [
    "# Case p2\n",
    "kmax = 8\n",
    "pagerank(A, v, p2, kmax)\n",
    "# solution for p1=0.001 => [0.2999 0.2995 0.2003 0.1001 0.1001]"
   ]
  },
  {
   "cell_type": "code",
   "execution_count": null,
   "id": "8e6fd5ae",
   "metadata": {},
   "outputs": [],
   "source": []
  }
 ],
 "metadata": {
  "kernelspec": {
   "display_name": "Python 3 (ipykernel)",
   "language": "python",
   "name": "python3"
  },
  "language_info": {
   "codemirror_mode": {
    "name": "ipython",
    "version": 3
   },
   "file_extension": ".py",
   "mimetype": "text/x-python",
   "name": "python",
   "nbconvert_exporter": "python",
   "pygments_lexer": "ipython3",
   "version": "3.9.7"
  }
 },
 "nbformat": 4,
 "nbformat_minor": 5
}
